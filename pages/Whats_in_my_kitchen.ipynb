{
 "cells": [
  {
   "cell_type": "code",
   "execution_count": null,
   "metadata": {},
   "outputs": [],
   "source": [
    "from dotenv import load_dotenv\n",
    "import streamlit as st\n",
    "import json\n",
    "import pandas as pd\n",
    "import redis\n",
    "import os\n",
    "import matplotlib.pyplot as plt\n",
    "import plotly.express as px"
   ]
  },
  {
   "cell_type": "code",
   "execution_count": null,
   "metadata": {},
   "outputs": [],
   "source": [
    "st.set_page_config(page_title=\"What's in my Kitchen?\", page_icon=\"🥘\")\n",
    "st.title(\"🥘 What's in my Kitchen?\")"
   ]
  },
  {
   "cell_type": "code",
   "execution_count": null,
   "metadata": {},
   "outputs": [],
   "source": [
    "load_dotenv()\n",
    "r_host = os.environ.get('RD_HOST')\n",
    "r_port = os.environ.get('RD_PORT')\n",
    "r_pass = os.environ.get('RD_PASS')"
   ]
  },
  {
   "cell_type": "code",
   "execution_count": null,
   "metadata": {},
   "outputs": [],
   "source": [
    "print(os.getcwd())"
   ]
  },
  {
   "cell_type": "code",
   "execution_count": null,
   "metadata": {},
   "outputs": [],
   "source": [
    "with open('D:\\Codes\\lynx_ai\\pages\\categories.txt') as c:\n",
    "    data = c.read()\n",
    "data = data.replace(\"'\", \"\\\"\")\n",
    "categories = json.loads(data)\n",
    "categories"
   ]
  },
  {
   "cell_type": "code",
   "execution_count": null,
   "metadata": {},
   "outputs": [],
   "source": [
    "@st.cache_data\n",
    "def redis_call(host, port, password):\n",
    "\n",
    "    r = redis.Redis(\n",
    "        host=host,\n",
    "        port=port,\n",
    "        password=password)\n",
    "\n",
    "    keys = r.keys()\n",
    "    values = r.mget(keys)\n",
    "\n",
    "    data = {}\n",
    "\n",
    "    for key, value in zip(keys, values):\n",
    "        data[f\"{key.decode()}\"] = f\"{value.decode()}\"\n",
    "\n",
    "    return data"
   ]
  },
  {
   "cell_type": "code",
   "execution_count": null,
   "metadata": {},
   "outputs": [],
   "source": [
    "data = redis_call(r_host, r_port, r_pass)\n",
    "data"
   ]
  },
  {
   "cell_type": "code",
   "execution_count": null,
   "metadata": {},
   "outputs": [],
   "source": [
    "df = pd.DataFrame()\n",
    "\n",
    "for key, value in data.items():\n",
    "    if key != 'key':\n",
    "        temp_df = pd.DataFrame.from_dict(json.loads(value), orient='index').T\n",
    "        temp_df.index = [key]\n",
    "        df = pd.concat([df, temp_df])\n",
    "    else:\n",
    "        pass\n",
    "\n",
    "st.dataframe(df)"
   ]
  },
  {
   "cell_type": "code",
   "execution_count": null,
   "metadata": {},
   "outputs": [],
   "source": [
    "def categorize(categories, grocery_data):\n",
    "    # create new column\n",
    "    grocery_data['category'] = ''\n",
    "\n",
    "    # categorize\n",
    "    for index, _ in grocery_data.iterrows():\n",
    "        item_name = index.lower()\n",
    "        for category, keywords in categories.items():\n",
    "            for keyword in keywords:\n",
    "                if keyword in item_name:\n",
    "                    grocery_data.at[index, 'category'] = category\n",
    "                    break\n",
    "\n",
    "    return grocery_data.sort_values(by='category')"
   ]
  },
  {
   "cell_type": "code",
   "execution_count": null,
   "metadata": {},
   "outputs": [],
   "source": [
    "st.dataframe(categorize(categories, df))\n"
   ]
  },
  {
   "cell_type": "code",
   "execution_count": null,
   "metadata": {},
   "outputs": [],
   "source": [
    "def unit_conversion(dataFrame):\n",
    "\n",
    "    # Convert Kilogram to gram\n",
    "    dataFrame.loc[dataFrame['Unit'] == 'Kilogram', ['Quantity', 'Unit']] = dataFrame.loc[dataFrame['Unit'] == 'Kilogram', ['Quantity', 'Unit']].replace(\n",
    "        {'Quantity': {value: value*1000 for value in dataFrame.loc[dataFrame['Unit'] == 'Kilogram', 'Quantity']}, 'Unit': {'Kilogram': 'gram'}})\n",
    "\n",
    "    # Convert Litre to millilitre\n",
    "    dataFrame.loc[dataFrame['Unit'] == 'Litre', ['Quantity', 'Unit']] = dataFrame.loc[dataFrame['Unit'] == 'Litre', ['Quantity', 'Unit']].replace(\n",
    "        {'Quantity': {value: value*1000 for value in dataFrame.loc[dataFrame['Unit'] == 'Litre', 'Quantity']}, 'Unit': {'Litre': 'MilliLitre'}})\n",
    "\n",
    "    return dataFrame"
   ]
  },
  {
   "cell_type": "code",
   "execution_count": null,
   "metadata": {},
   "outputs": [],
   "source": [
    "st.dataFrame(unit_conversion(df))"
   ]
  },
  {
   "cell_type": "code",
   "execution_count": null,
   "metadata": {},
   "outputs": [],
   "source": [
    "def plotting(dataFrame, index): "
   ]
  }
 ],
 "metadata": {
  "kernelspec": {
   "display_name": "Python 3",
   "language": "python",
   "name": "python3"
  },
  "language_info": {
   "codemirror_mode": {
    "name": "ipython",
    "version": 3
   },
   "file_extension": ".py",
   "mimetype": "text/x-python",
   "name": "python",
   "nbconvert_exporter": "python",
   "pygments_lexer": "ipython3",
   "version": "3.10.10"
  },
  "orig_nbformat": 4,
  "vscode": {
   "interpreter": {
    "hash": "7fd076d91e91854844ee83656d28bed7130dfdb9dac8cd79a71b713987725dd2"
   }
  }
 },
 "nbformat": 4,
 "nbformat_minor": 2
}
