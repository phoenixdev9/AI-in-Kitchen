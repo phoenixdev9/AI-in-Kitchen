{
 "cells": [
  {
   "cell_type": "code",
   "execution_count": 33,
   "metadata": {},
   "outputs": [],
   "source": [
    "from dotenv import load_dotenv\n",
    "import streamlit as st\n",
    "import json\n",
    "import pandas as pd\n",
    "import redis\n",
    "import os\n",
    "import matplotlib.pyplot as plt\n",
    "import plotly.express as px"
   ]
  },
  {
   "cell_type": "code",
   "execution_count": 34,
   "metadata": {},
   "outputs": [
    {
     "data": {
      "text/plain": [
       "DeltaGenerator(_root_container=0, _provided_cursor=None, _parent=None, _block_type=None, _form_data=None)"
      ]
     },
     "execution_count": 34,
     "metadata": {},
     "output_type": "execute_result"
    }
   ],
   "source": [
    "st.set_page_config(page_title=\"What's in my Kitchen?\", page_icon=\"🥘\")\n",
    "st.title(\"🥘 What's in my Kitchen?\")"
   ]
  },
  {
   "cell_type": "code",
   "execution_count": 35,
   "metadata": {},
   "outputs": [],
   "source": [
    "load_dotenv()\n",
    "r_host = os.environ.get('RD_HOST')\n",
    "r_port = os.environ.get('RD_PORT')\n",
    "r_pass = os.environ.get('RD_PASS')"
   ]
  },
  {
   "cell_type": "code",
   "execution_count": 36,
   "metadata": {},
   "outputs": [
    {
     "name": "stdout",
     "output_type": "stream",
     "text": [
      "d:\\Codes\\lynx_ai\\pages\n"
     ]
    }
   ],
   "source": [
    "print(os.getcwd())"
   ]
  },
  {
   "cell_type": "code",
   "execution_count": 49,
   "metadata": {},
   "outputs": [],
   "source": [
    "with open('D:\\Codes\\lynx_ai\\pages\\categories.txt') as c:\n",
    "    data = c.read()\n",
    "data = data.replace(\"'\", \"\\\"\")\n",
    "categories = json.loads(data)"
   ]
  },
  {
   "cell_type": "code",
   "execution_count": 48,
   "metadata": {},
   "outputs": [
    {
     "data": {
      "text/plain": [
       "{'Bakery': ['durum', 'salt', 'sugar', 'bread'],\n",
       " 'Canned goods': ['kidney beans', 'mushroom', 'tomato puree'],\n",
       " 'Dairy': ['butter', 'cheese', 'egg', 'eggs', 'milk', 'yogurt'],\n",
       " 'Fish': ['salmon', 'tuna'],\n",
       " 'Fruits': ['apple', 'orange', 'tangerine'],\n",
       " 'Grains': ['flour', 'musli', 'pasta', 'rice'],\n",
       " 'Meat': ['beef', 'chicken', 'chicken breast', 'pork'],\n",
       " 'Oil': ['cooking oil', 'olive oil'],\n",
       " 'Spices': ['chilli powder',\n",
       "  'garam masala',\n",
       "  'garlic paste',\n",
       "  'garlic powder',\n",
       "  'ginger paste',\n",
       "  'turmeric powder'],\n",
       " 'Vegetables': ['carrot', 'garlic', 'onion', 'potatoes', 'tomato']}"
      ]
     },
     "execution_count": 48,
     "metadata": {},
     "output_type": "execute_result"
    }
   ],
   "source": [
    "categories"
   ]
  },
  {
   "cell_type": "code",
   "execution_count": 38,
   "metadata": {},
   "outputs": [],
   "source": [
    "@st.cache_data\n",
    "def redis_call(host, port, password):\n",
    "\n",
    "    r = redis.Redis(\n",
    "        host=host,\n",
    "        port=port,\n",
    "        password=password)\n",
    "\n",
    "    keys = r.keys()\n",
    "    values = r.mget(keys)\n",
    "\n",
    "    data = {}\n",
    "\n",
    "    for key, value in zip(keys, values):\n",
    "        data[f\"{key.decode()}\"] = f\"{value.decode()}\"\n",
    "\n",
    "    return data"
   ]
  },
  {
   "cell_type": "code",
   "execution_count": 50,
   "metadata": {},
   "outputs": [],
   "source": [
    "data = redis_call(r_host, r_port, r_pass)"
   ]
  },
  {
   "cell_type": "code",
   "execution_count": 51,
   "metadata": {},
   "outputs": [
    {
     "data": {
      "text/plain": [
       "{'Chicken Breast ': '{\"quantity\": \"500\", \"unit\": \"gram\"}',\n",
       " 'Cooking Oil': '{\"quantity\": \"500\", \"unit\": \"mililitre\"}',\n",
       " 'Sugar': '{\"quantity\": \"1\", \"unit\": \"kilogram\"}',\n",
       " 'Ginger Paste': '{\"quantity\": \"500\", \"unit\": \"gram\"}',\n",
       " 'Olive Oil': '{\"quantity\": \"500\", \"unit\": \"mililitre\"}',\n",
       " 'Turmeric powder': '{\"quantity\": \"100\", \"unit\": \"gram\"}',\n",
       " 'Chicken': '{\"quantity\": \"1\", \"unit\": \"kilogram\"}',\n",
       " 'Kidney Beans': '{\"quantity\": \"1\", \"unit\": \"kilogram\"}',\n",
       " 'Flour': '{\"quantity\": \"500\", \"unit\": \"gram\"}',\n",
       " 'Rice': '{\"quantity\": \"1\", \"unit\": \"kilogram\"}',\n",
       " 'Musli': '{\"quantity\": \"1\", \"unit\": \"kilogram\"}',\n",
       " 'Tuna': '{\"quantity\": \"250\", \"unit\": \"gram\"}',\n",
       " 'Tomato': '{\"quantity\": \"1\", \"unit\": \"kilogram\"}',\n",
       " 'Carrot': '{\"quantity\": \"1\", \"unit\": \"kilogram\"}',\n",
       " 'Garlic Paste': '{\"quantity\": \"500\", \"unit\": \"gram\"}',\n",
       " 'Onion': '{\"quantity\": \"1\", \"unit\": \"kilogram\"}',\n",
       " 'Garlic ': '{\"quantity\": \"250\", \"unit\": \"gram\"}',\n",
       " 'Cheese': '{\"quantity\": \"500\", \"unit\": \"gram\"}',\n",
       " 'Salt': '{\"quantity\": \"250\", \"unit\": \"gram\"}',\n",
       " 'Chilli powder': '{\"quantity\": \"100\", \"unit\": \"gram\"}',\n",
       " 'Egg': '{\"quantity\": \"10\", \"unit\": \"Piece\"}',\n",
       " 'Garam Masala': '{\"quantity\": \"100\", \"unit\": \"gram\"}',\n",
       " 'Durum': '{\"quantity\": \"2\", \"unit\": \"Packet\"}',\n",
       " 'Butter': '{\"quantity\": \"500\", \"unit\": \"gram\"}',\n",
       " 'Milk': '{\"quantity\": \"2\", \"unit\": \"Packets\"}',\n",
       " 'key': 'value',\n",
       " 'Potatoes ': '{\"quantity\": \"2\", \"unit\": \"kilogram\"}',\n",
       " 'Tomato puree': '{\"quantity\": \"1\", \"unit\": \"kilogram\"}',\n",
       " 'Mushroom': '{\"quantity\": \"4\", \"unit\": \"Cans\"}'}"
      ]
     },
     "execution_count": 51,
     "metadata": {},
     "output_type": "execute_result"
    }
   ],
   "source": [
    "data"
   ]
  },
  {
   "cell_type": "code",
   "execution_count": 40,
   "metadata": {},
   "outputs": [
    {
     "data": {
      "text/plain": [
       "DeltaGenerator(_root_container=0, _provided_cursor=None, _parent=None, _block_type=None, _form_data=None)"
      ]
     },
     "execution_count": 40,
     "metadata": {},
     "output_type": "execute_result"
    }
   ],
   "source": [
    "df = pd.DataFrame()\n",
    "\n",
    "for key, value in data.items():\n",
    "    if key != 'key':\n",
    "        temp_df = pd.DataFrame.from_dict(json.loads(value), orient='index').T\n",
    "        temp_df.index = [key]\n",
    "        df = pd.concat([df, temp_df])\n",
    "    else:\n",
    "        pass\n",
    "\n",
    "st.dataframe(df)"
   ]
  },
  {
   "cell_type": "code",
   "execution_count": 41,
   "metadata": {},
   "outputs": [],
   "source": [
    "def categorize(categories, grocery_data):\n",
    "    # create new column\n",
    "    grocery_data['category'] = ''\n",
    "\n",
    "    # categorize\n",
    "    for index, _ in grocery_data.iterrows():\n",
    "        item_name = index.lower()\n",
    "        for category, keywords in categories.items():\n",
    "            for keyword in keywords:\n",
    "                if keyword in item_name:\n",
    "                    grocery_data.at[index, 'category'] = category\n",
    "                    break\n",
    "\n",
    "    return grocery_data.sort_values(by='category')"
   ]
  },
  {
   "cell_type": "code",
   "execution_count": 42,
   "metadata": {},
   "outputs": [
    {
     "data": {
      "text/plain": [
       "DeltaGenerator(_root_container=0, _provided_cursor=None, _parent=None, _block_type=None, _form_data=None)"
      ]
     },
     "execution_count": 42,
     "metadata": {},
     "output_type": "execute_result"
    }
   ],
   "source": [
    "st.dataframe(categorize(categories, df))"
   ]
  },
  {
   "cell_type": "code",
   "execution_count": 53,
   "metadata": {},
   "outputs": [
    {
     "data": {
      "text/html": [
       "<div>\n",
       "<style scoped>\n",
       "    .dataframe tbody tr th:only-of-type {\n",
       "        vertical-align: middle;\n",
       "    }\n",
       "\n",
       "    .dataframe tbody tr th {\n",
       "        vertical-align: top;\n",
       "    }\n",
       "\n",
       "    .dataframe thead th {\n",
       "        text-align: right;\n",
       "    }\n",
       "</style>\n",
       "<table border=\"1\" class=\"dataframe\">\n",
       "  <thead>\n",
       "    <tr style=\"text-align: right;\">\n",
       "      <th></th>\n",
       "      <th>quantity</th>\n",
       "      <th>unit</th>\n",
       "      <th>category</th>\n",
       "    </tr>\n",
       "  </thead>\n",
       "  <tbody>\n",
       "    <tr>\n",
       "      <th>Sugar</th>\n",
       "      <td>1</td>\n",
       "      <td>kilogram</td>\n",
       "      <td>Bakery</td>\n",
       "    </tr>\n",
       "    <tr>\n",
       "      <th>Durum</th>\n",
       "      <td>2</td>\n",
       "      <td>Packet</td>\n",
       "      <td>Bakery</td>\n",
       "    </tr>\n",
       "    <tr>\n",
       "      <th>Salt</th>\n",
       "      <td>250</td>\n",
       "      <td>gram</td>\n",
       "      <td>Bakery</td>\n",
       "    </tr>\n",
       "    <tr>\n",
       "      <th>Mushroom</th>\n",
       "      <td>4</td>\n",
       "      <td>Cans</td>\n",
       "      <td>Canned goods</td>\n",
       "    </tr>\n",
       "    <tr>\n",
       "      <th>Kidney Beans</th>\n",
       "      <td>1</td>\n",
       "      <td>kilogram</td>\n",
       "      <td>Canned goods</td>\n",
       "    </tr>\n",
       "  </tbody>\n",
       "</table>\n",
       "</div>"
      ],
      "text/plain": [
       "             quantity      unit      category\n",
       "Sugar               1  kilogram        Bakery\n",
       "Durum               2    Packet        Bakery\n",
       "Salt              250      gram        Bakery\n",
       "Mushroom            4      Cans  Canned goods\n",
       "Kidney Beans        1  kilogram  Canned goods"
      ]
     },
     "execution_count": 53,
     "metadata": {},
     "output_type": "execute_result"
    }
   ],
   "source": [
    "categorize(categories, df).head()"
   ]
  },
  {
   "cell_type": "code",
   "execution_count": 43,
   "metadata": {},
   "outputs": [],
   "source": [
    "def unit_conversion(dataFrame):\n",
    "\n",
    "    # Convert Kilogram to gram\n",
    "    dataFrame.loc[dataFrame['unit'] == 'Kilogram', ['quantity', 'unit']] = dataFrame.loc[dataFrame['unit'] == 'Kilogram', ['quantity', 'unit']].replace(\n",
    "        {'quantity': {value: value*1000 for value in dataFrame.loc[dataFrame['unit'] == 'Kilogram', 'quantity']}, 'unit': {'Kilogram': 'gram'}})\n",
    "\n",
    "    # Convert Litre to millilitre\n",
    "    dataFrame.loc[dataFrame['unit'] == 'Litre', ['quantity', 'unit']] = dataFrame.loc[dataFrame['unit'] == 'Litre', ['quantity', 'unit']].replace(\n",
    "        {'quantity': {value: value*1000 for value in dataFrame.loc[dataFrame['unit'] == 'Litre', 'quantity']}, 'unit': {'Litre': 'MilliLitre'}})\n",
    "\n",
    "    return dataFrame"
   ]
  },
  {
   "cell_type": "code",
   "execution_count": 54,
   "metadata": {},
   "outputs": [
    {
     "data": {
      "text/html": [
       "<div>\n",
       "<style scoped>\n",
       "    .dataframe tbody tr th:only-of-type {\n",
       "        vertical-align: middle;\n",
       "    }\n",
       "\n",
       "    .dataframe tbody tr th {\n",
       "        vertical-align: top;\n",
       "    }\n",
       "\n",
       "    .dataframe thead th {\n",
       "        text-align: right;\n",
       "    }\n",
       "</style>\n",
       "<table border=\"1\" class=\"dataframe\">\n",
       "  <thead>\n",
       "    <tr style=\"text-align: right;\">\n",
       "      <th></th>\n",
       "      <th>quantity</th>\n",
       "      <th>unit</th>\n",
       "      <th>category</th>\n",
       "    </tr>\n",
       "  </thead>\n",
       "  <tbody>\n",
       "    <tr>\n",
       "      <th>Chicken Breast</th>\n",
       "      <td>500</td>\n",
       "      <td>gram</td>\n",
       "      <td>Meat</td>\n",
       "    </tr>\n",
       "    <tr>\n",
       "      <th>Cooking Oil</th>\n",
       "      <td>500</td>\n",
       "      <td>mililitre</td>\n",
       "      <td>Oil</td>\n",
       "    </tr>\n",
       "    <tr>\n",
       "      <th>Sugar</th>\n",
       "      <td>1</td>\n",
       "      <td>kilogram</td>\n",
       "      <td>Bakery</td>\n",
       "    </tr>\n",
       "    <tr>\n",
       "      <th>Ginger Paste</th>\n",
       "      <td>500</td>\n",
       "      <td>gram</td>\n",
       "      <td>Spices</td>\n",
       "    </tr>\n",
       "    <tr>\n",
       "      <th>Olive Oil</th>\n",
       "      <td>500</td>\n",
       "      <td>mililitre</td>\n",
       "      <td>Oil</td>\n",
       "    </tr>\n",
       "  </tbody>\n",
       "</table>\n",
       "</div>"
      ],
      "text/plain": [
       "                quantity       unit category\n",
       "Chicken Breast       500       gram     Meat\n",
       "Cooking Oil          500  mililitre      Oil\n",
       "Sugar                  1   kilogram   Bakery\n",
       "Ginger Paste         500       gram   Spices\n",
       "Olive Oil            500  mililitre      Oil"
      ]
     },
     "execution_count": 54,
     "metadata": {},
     "output_type": "execute_result"
    }
   ],
   "source": [
    "unit_conversion(df).head()"
   ]
  },
  {
   "cell_type": "code",
   "execution_count": 55,
   "metadata": {},
   "outputs": [
    {
     "data": {
      "text/plain": [
       "DeltaGenerator(_root_container=0, _provided_cursor=None, _parent=None, _block_type=None, _form_data=None)"
      ]
     },
     "execution_count": 55,
     "metadata": {},
     "output_type": "execute_result"
    }
   ],
   "source": [
    "st.dataframe(unit_conversion(df))"
   ]
  },
  {
   "cell_type": "code",
   "execution_count": 61,
   "metadata": {},
   "outputs": [],
   "source": [
    "def plotting(dataFrame):\n",
    "    fig = px.scatter(dataFrame, x='unit', y='quantity')\n",
    "    fig.show()"
   ]
  },
  {
   "cell_type": "code",
   "execution_count": 62,
   "metadata": {},
   "outputs": [
    {
     "ename": "ValueError",
     "evalue": "Mime type rendering requires nbformat>=4.2.0 but it is not installed",
     "output_type": "error",
     "traceback": [
      "\u001b[1;31m---------------------------------------------------------------------------\u001b[0m",
      "\u001b[1;31mValueError\u001b[0m                                Traceback (most recent call last)",
      "Cell \u001b[1;32mIn[62], line 1\u001b[0m\n\u001b[1;32m----> 1\u001b[0m plotting(df)\n",
      "Cell \u001b[1;32mIn[61], line 3\u001b[0m, in \u001b[0;36mplotting\u001b[1;34m(dataFrame)\u001b[0m\n\u001b[0;32m      1\u001b[0m \u001b[39mdef\u001b[39;00m \u001b[39mplotting\u001b[39m(dataFrame):\n\u001b[0;32m      2\u001b[0m     fig \u001b[39m=\u001b[39m px\u001b[39m.\u001b[39mscatter(dataFrame, x\u001b[39m=\u001b[39m\u001b[39m'\u001b[39m\u001b[39munit\u001b[39m\u001b[39m'\u001b[39m, y\u001b[39m=\u001b[39m\u001b[39m'\u001b[39m\u001b[39mquantity\u001b[39m\u001b[39m'\u001b[39m)\n\u001b[1;32m----> 3\u001b[0m     fig\u001b[39m.\u001b[39;49mshow()\n",
      "File \u001b[1;32m~\\AppData\\Local\\Packages\\PythonSoftwareFoundation.Python.3.10_qbz5n2kfra8p0\\LocalCache\\local-packages\\Python310\\site-packages\\plotly\\basedatatypes.py:3390\u001b[0m, in \u001b[0;36mBaseFigure.show\u001b[1;34m(self, *args, **kwargs)\u001b[0m\n\u001b[0;32m   3357\u001b[0m \u001b[39m\u001b[39m\u001b[39m\"\"\"\u001b[39;00m\n\u001b[0;32m   3358\u001b[0m \u001b[39mShow a figure using either the default renderer(s) or the renderer(s)\u001b[39;00m\n\u001b[0;32m   3359\u001b[0m \u001b[39mspecified by the renderer argument\u001b[39;00m\n\u001b[1;32m   (...)\u001b[0m\n\u001b[0;32m   3386\u001b[0m \u001b[39mNone\u001b[39;00m\n\u001b[0;32m   3387\u001b[0m \u001b[39m\"\"\"\u001b[39;00m\n\u001b[0;32m   3388\u001b[0m \u001b[39mimport\u001b[39;00m \u001b[39mplotly\u001b[39;00m\u001b[39m.\u001b[39;00m\u001b[39mio\u001b[39;00m \u001b[39mas\u001b[39;00m \u001b[39mpio\u001b[39;00m\n\u001b[1;32m-> 3390\u001b[0m \u001b[39mreturn\u001b[39;00m pio\u001b[39m.\u001b[39mshow(\u001b[39mself\u001b[39m, \u001b[39m*\u001b[39margs, \u001b[39m*\u001b[39m\u001b[39m*\u001b[39mkwargs)\n",
      "File \u001b[1;32m~\\AppData\\Local\\Packages\\PythonSoftwareFoundation.Python.3.10_qbz5n2kfra8p0\\LocalCache\\local-packages\\Python310\\site-packages\\plotly\\io\\_renderers.py:396\u001b[0m, in \u001b[0;36mshow\u001b[1;34m(fig, renderer, validate, **kwargs)\u001b[0m\n\u001b[0;32m    391\u001b[0m         \u001b[39mraise\u001b[39;00m \u001b[39mValueError\u001b[39;00m(\n\u001b[0;32m    392\u001b[0m             \u001b[39m\"\u001b[39m\u001b[39mMime type rendering requires ipython but it is not installed\u001b[39m\u001b[39m\"\u001b[39m\n\u001b[0;32m    393\u001b[0m         )\n\u001b[0;32m    395\u001b[0m     \u001b[39mif\u001b[39;00m \u001b[39mnot\u001b[39;00m nbformat \u001b[39mor\u001b[39;00m Version(nbformat\u001b[39m.\u001b[39m__version__) \u001b[39m<\u001b[39m Version(\u001b[39m\"\u001b[39m\u001b[39m4.2.0\u001b[39m\u001b[39m\"\u001b[39m):\n\u001b[1;32m--> 396\u001b[0m         \u001b[39mraise\u001b[39;00m \u001b[39mValueError\u001b[39;00m(\n\u001b[0;32m    397\u001b[0m             \u001b[39m\"\u001b[39m\u001b[39mMime type rendering requires nbformat>=4.2.0 but it is not installed\u001b[39m\u001b[39m\"\u001b[39m\n\u001b[0;32m    398\u001b[0m         )\n\u001b[0;32m    400\u001b[0m     ipython_display\u001b[39m.\u001b[39mdisplay(bundle, raw\u001b[39m=\u001b[39m\u001b[39mTrue\u001b[39;00m)\n\u001b[0;32m    402\u001b[0m \u001b[39m# external renderers\u001b[39;00m\n",
      "\u001b[1;31mValueError\u001b[0m: Mime type rendering requires nbformat>=4.2.0 but it is not installed"
     ]
    }
   ],
   "source": [
    "plotting(df)"
   ]
  },
  {
   "cell_type": "code",
   "execution_count": 58,
   "metadata": {},
   "outputs": [
    {
     "ename": "AttributeError",
     "evalue": "module 'streamlit' has no attribute 'plotting'",
     "output_type": "error",
     "traceback": [
      "\u001b[1;31m---------------------------------------------------------------------------\u001b[0m",
      "\u001b[1;31mAttributeError\u001b[0m                            Traceback (most recent call last)",
      "Cell \u001b[1;32mIn[58], line 1\u001b[0m\n\u001b[1;32m----> 1\u001b[0m st\u001b[39m.\u001b[39;49mplotting(df, index)\n",
      "\u001b[1;31mAttributeError\u001b[0m: module 'streamlit' has no attribute 'plotting'"
     ]
    }
   ],
   "source": [
    "st.plotting(df, index)"
   ]
  },
  {
   "cell_type": "code",
   "execution_count": 63,
   "metadata": {},
   "outputs": [
    {
     "name": "stdout",
     "output_type": "stream",
     "text": [
      "3.10.10 (tags/v3.10.10:aad5f6a, Feb  7 2023, 17:20:36) [MSC v.1929 64 bit (AMD64)]\n"
     ]
    }
   ],
   "source": [
    "import sys\n",
    "print(sys.version)"
   ]
  },
  {
   "cell_type": "code",
   "execution_count": null,
   "metadata": {},
   "outputs": [],
   "source": []
  }
 ],
 "metadata": {
  "kernelspec": {
   "display_name": "Python 3",
   "language": "python",
   "name": "python3"
  },
  "language_info": {
   "codemirror_mode": {
    "name": "ipython",
    "version": 3
   },
   "file_extension": ".py",
   "mimetype": "text/x-python",
   "name": "python",
   "nbconvert_exporter": "python",
   "pygments_lexer": "ipython3",
   "version": "3.10.10"
  },
  "orig_nbformat": 4,
  "vscode": {
   "interpreter": {
    "hash": "7fd076d91e91854844ee83656d28bed7130dfdb9dac8cd79a71b713987725dd2"
   }
  }
 },
 "nbformat": 4,
 "nbformat_minor": 2
}
